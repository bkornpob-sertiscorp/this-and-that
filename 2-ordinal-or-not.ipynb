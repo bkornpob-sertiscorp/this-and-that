{
 "cells": [
  {
   "cell_type": "markdown",
   "metadata": {},
   "source": [
    "This notebook uses the diamond dataset in seaborn demonstrating how to use the xgboost. It is assumed that you have your environment setup for the xgboost. Some recommended use cases for this notebook:\n",
    "  - Learning basic workflow of xgboost\n",
    "  - Learning to represent a categorical data both nominal and ordinal types\n",
    "  - Testing some hypotheses:\n",
    "    - Model performance when representing 'cut' variable as ordinal is different compare to setting as nominal?\n",
    "    - The 'cut' variable helps improving the model performance?\n",
    "\n",
    "Note: this notebook sets to use GPU. You can change it to CPU easily during parameter setting."
   ]
  },
  {
   "cell_type": "code",
   "execution_count": 86,
   "metadata": {},
   "outputs": [],
   "source": [
    "import copy\n",
    "import seaborn as sns\n",
    "import numpy as np\n",
    "import pandas as pd\n",
    "import sklearn\n",
    "from sklearn.model_selection import train_test_split\n",
    "import xgboost as xgb\n",
    "seed = 123"
   ]
  },
  {
   "cell_type": "code",
   "execution_count": 88,
   "metadata": {},
   "outputs": [
    {
     "data": {
      "text/plain": [
       "('0.13.2', '1.26.4', '2.2.2', '1.5.2', '2.1.1')"
      ]
     },
     "execution_count": 88,
     "metadata": {},
     "output_type": "execute_result"
    }
   ],
   "source": [
    "sns.__version__, np.__version__, pd.__version__, sklearn.__version__, xgb.__version__"
   ]
  },
  {
   "cell_type": "code",
   "execution_count": 89,
   "metadata": {},
   "outputs": [
    {
     "data": {
      "text/plain": [
       "(   carat      cut color clarity  depth  table  price     x     y     z\n",
       " 0   0.23    Ideal     E     SI2   61.5   55.0    326  3.95  3.98  2.43\n",
       " 1   0.21  Premium     E     SI1   59.8   61.0    326  3.89  3.84  2.31\n",
       " 2   0.23     Good     E     VS1   56.9   65.0    327  4.05  4.07  2.31\n",
       " 3   0.29  Premium     I     VS2   62.4   58.0    334  4.20  4.23  2.63\n",
       " 4   0.31     Good     J     SI2   63.3   58.0    335  4.34  4.35  2.75,\n",
       " carat       float64\n",
       " cut        category\n",
       " color      category\n",
       " clarity    category\n",
       " depth       float64\n",
       " table       float64\n",
       " price         int64\n",
       " x           float64\n",
       " y           float64\n",
       " z           float64\n",
       " dtype: object,\n",
       " (53940, 10))"
      ]
     },
     "execution_count": 89,
     "metadata": {},
     "output_type": "execute_result"
    }
   ],
   "source": [
    "# use diamonds dataset in seaborn\n",
    "diamonds = sns.load_dataset('diamonds')\n",
    "diamonds.head(), diamonds.dtypes, diamonds.shape"
   ]
  },
  {
   "cell_type": "code",
   "execution_count": 90,
   "metadata": {},
   "outputs": [
    {
     "data": {
      "text/html": [
       "<div>\n",
       "<style scoped>\n",
       "    .dataframe tbody tr th:only-of-type {\n",
       "        vertical-align: middle;\n",
       "    }\n",
       "\n",
       "    .dataframe tbody tr th {\n",
       "        vertical-align: top;\n",
       "    }\n",
       "\n",
       "    .dataframe thead th {\n",
       "        text-align: right;\n",
       "    }\n",
       "</style>\n",
       "<table border=\"1\" class=\"dataframe\">\n",
       "  <thead>\n",
       "    <tr style=\"text-align: right;\">\n",
       "      <th></th>\n",
       "      <th>cut</th>\n",
       "      <th>color</th>\n",
       "      <th>clarity</th>\n",
       "    </tr>\n",
       "  </thead>\n",
       "  <tbody>\n",
       "    <tr>\n",
       "      <th>count</th>\n",
       "      <td>53940</td>\n",
       "      <td>53940</td>\n",
       "      <td>53940</td>\n",
       "    </tr>\n",
       "    <tr>\n",
       "      <th>unique</th>\n",
       "      <td>5</td>\n",
       "      <td>7</td>\n",
       "      <td>8</td>\n",
       "    </tr>\n",
       "    <tr>\n",
       "      <th>top</th>\n",
       "      <td>Ideal</td>\n",
       "      <td>G</td>\n",
       "      <td>SI1</td>\n",
       "    </tr>\n",
       "    <tr>\n",
       "      <th>freq</th>\n",
       "      <td>21551</td>\n",
       "      <td>11292</td>\n",
       "      <td>13065</td>\n",
       "    </tr>\n",
       "  </tbody>\n",
       "</table>\n",
       "</div>"
      ],
      "text/plain": [
       "          cut  color clarity\n",
       "count   53940  53940   53940\n",
       "unique      5      7       8\n",
       "top     Ideal      G     SI1\n",
       "freq    21551  11292   13065"
      ]
     },
     "execution_count": 90,
     "metadata": {},
     "output_type": "execute_result"
    }
   ],
   "source": [
    "# we have three columns for non-numerical features: cut, color, clarity\n",
    "# their dtypes are already as category\n",
    "diamonds.describe(exclude=np.number)"
   ]
  },
  {
   "cell_type": "code",
   "execution_count": 91,
   "metadata": {},
   "outputs": [
    {
     "data": {
      "text/plain": [
       "(CategoricalDtype(categories=['Ideal', 'Premium', 'Very Good', 'Good', 'Fair'], ordered=False, categories_dtype=object),\n",
       " CategoricalDtype(categories=['D', 'E', 'F', 'G', 'H', 'I', 'J'], ordered=False, categories_dtype=object),\n",
       " CategoricalDtype(categories=['IF', 'VVS1', 'VVS2', 'VS1', 'VS2', 'SI1', 'SI2', 'I1'], ordered=False, categories_dtype=object))"
      ]
     },
     "execution_count": 91,
     "metadata": {},
     "output_type": "execute_result"
    }
   ],
   "source": [
    "# note that category dtype can be either ordinal or nominal\n",
    "# cut, color, clarity are current nominal.\n",
    "diamonds['cut'].dtype, diamonds['color'].dtype, diamonds['clarity'].dtype"
   ]
  },
  {
   "cell_type": "code",
   "execution_count": 92,
   "metadata": {},
   "outputs": [
    {
     "data": {
      "text/plain": [
       "CategoricalDtype(categories=['Fair', 'Good', 'Very Good', 'Premium', 'Ideal'], ordered=True, categories_dtype=object)"
      ]
     },
     "execution_count": 92,
     "metadata": {},
     "output_type": "execute_result"
    }
   ],
   "source": [
    "# it might be more accurate representing cut as ordinal, considering that the categories (i.e., Ideal, Premium, ...) implies order, and likely to associate with the price that we are trying to predict.\n",
    "# will create another dataset, and set it so that cut is ordinal.\n",
    "# will also re-order the categories from low-to-high explicitly.\n",
    "diamonds_ordinal = copy.deepcopy(diamonds)\n",
    "diamonds_ordinal['cut'] = pd.Categorical(diamonds_ordinal['cut'], \n",
    "                                         categories=['Fair', 'Good', 'Very Good', 'Premium', 'Ideal'], \n",
    "                                         ordered=True)\n",
    "diamonds_ordinal['cut'].dtype"
   ]
  },
  {
   "cell_type": "code",
   "execution_count": 93,
   "metadata": {},
   "outputs": [],
   "source": [
    "# Split X, Y\n",
    "Y, Y_ordinal = diamonds['price'], diamonds_ordinal['price']\n",
    "X, X_ordinal = diamonds.drop('price', axis=1), diamonds_ordinal.drop('price', axis=1)"
   ]
  },
  {
   "cell_type": "code",
   "execution_count": 94,
   "metadata": {},
   "outputs": [
    {
     "data": {
      "text/plain": [
       "((43152,), (10788,))"
      ]
     },
     "execution_count": 94,
     "metadata": {},
     "output_type": "execute_result"
    }
   ],
   "source": [
    "# split train and test\n",
    "X_train, X_test, Y_train, Y_test = train_test_split(X, Y, random_state=seed, train_size=0.8)\n",
    "Xo_train, Xo_test, Yo_train, Yo_test = train_test_split(X_ordinal, Y_ordinal, random_state=seed, train_size=0.8)\n",
    "Y_train.shape, Y_test.shape"
   ]
  },
  {
   "cell_type": "code",
   "execution_count": 95,
   "metadata": {},
   "outputs": [],
   "source": [
    "# Make DMatrix for xgboost\n",
    "# note the argument enable_categorical=True\n",
    "dtrain = xgb.DMatrix(X_train, Y_train, enable_categorical=True)\n",
    "dtrain_o = xgb.DMatrix(Xo_train, Yo_train, enable_categorical=True)\n",
    "dtest = xgb.DMatrix(X_test, Y_test, enable_categorical=True)\n",
    "dtest_o = xgb.DMatrix(Xo_test, Yo_test, enable_categorical=True)"
   ]
  },
  {
   "cell_type": "code",
   "execution_count": 96,
   "metadata": {},
   "outputs": [],
   "source": [
    "# using gpu\n",
    "# change 'device': 'cpu' for using cpu\n",
    "params_gpu = {\n",
    "    \"objective\": \"reg:squarederror\", \n",
    "    'eval_metric': 'rmse',\n",
    "    \"tree_method\": \"hist\",\n",
    "    'device': 'gpu'\n",
    "    }\n",
    "n = 5000 # num_boost_round\n",
    "vb = 50 # verbose_eval\n",
    "es = 50 # early_stopping_rounds\n",
    "evals = [(dtrain, \"train\"), (dtest, \"test\"), (dtrain_o, \"train_o\"), (dtest_o, \"test_o\")]\n"
   ]
  },
  {
   "cell_type": "code",
   "execution_count": 97,
   "metadata": {},
   "outputs": [
    {
     "name": "stdout",
     "output_type": "stream",
     "text": [
      "[0]\ttrain-rmse:2861.57928\ttest-rmse:2848.91516\ttrain_o-rmse:2861.57928\ttest_o-rmse:2848.91516\n",
      "[50]\ttrain-rmse:430.67545\ttest-rmse:545.64382\ttrain_o-rmse:514.94236\ttest_o-rmse:601.69674\n",
      "[100]\ttrain-rmse:378.38766\ttest-rmse:543.54183\ttrain_o-rmse:482.34675\ttest_o-rmse:600.59899\n",
      "[138]\ttrain-rmse:346.41113\ttest-rmse:545.63702\ttrain_o-rmse:461.35018\ttest_o-rmse:601.45831\n"
     ]
    }
   ],
   "source": [
    "model = xgb.train(\n",
    "   params=params_gpu,\n",
    "   dtrain=dtrain,\n",
    "   num_boost_round=n,\n",
    "   evals=evals,\n",
    "   verbose_eval=vb,\n",
    "   early_stopping_rounds=es,\n",
    ")"
   ]
  },
  {
   "cell_type": "code",
   "execution_count": 98,
   "metadata": {},
   "outputs": [
    {
     "name": "stdout",
     "output_type": "stream",
     "text": [
      "[0]\ttrain-rmse:2861.57928\ttest-rmse:2848.91516\ttrain_o-rmse:2861.57928\ttest_o-rmse:2848.91516\n"
     ]
    },
    {
     "name": "stdout",
     "output_type": "stream",
     "text": [
      "[50]\ttrain-rmse:514.94236\ttest-rmse:601.69674\ttrain_o-rmse:430.67545\ttest_o-rmse:545.64382\n",
      "[100]\ttrain-rmse:482.34675\ttest-rmse:600.59899\ttrain_o-rmse:378.38766\ttest_o-rmse:543.54183\n",
      "[138]\ttrain-rmse:461.35018\ttest-rmse:601.45831\ttrain_o-rmse:346.41113\ttest_o-rmse:545.63702\n"
     ]
    }
   ],
   "source": [
    "model_o = xgb.train(\n",
    "   params=params_gpu,\n",
    "   dtrain=dtrain_o,\n",
    "   num_boost_round=n,\n",
    "   evals=evals,\n",
    "   verbose_eval=vb,\n",
    "   early_stopping_rounds=es,\n",
    ")"
   ]
  },
  {
   "cell_type": "code",
   "execution_count": 101,
   "metadata": {},
   "outputs": [],
   "source": [
    "# Both models perform similarly shown by the evaluation rmses.\n",
    "# This implies that representing cut as nominal or ordinal doesn't evidently affect the model performance.\n",
    "# Does cut have any explanatory power at all?"
   ]
  },
  {
   "cell_type": "code",
   "execution_count": 102,
   "metadata": {},
   "outputs": [
    {
     "name": "stdout",
     "output_type": "stream",
     "text": [
      "[0]\ttrain_c-rmse:2861.57928\ttest_c-rmse:2848.91516\ttrain_co-rmse:2861.57928\ttest_co-rmse:2848.91516\n",
      "[50]\ttrain_c-rmse:444.82757\ttest_c-rmse:560.36292\ttrain_co-rmse:444.82757\ttest_co-rmse:560.36292\n",
      "[100]\ttrain_c-rmse:388.12758\ttest_c-rmse:562.73100\ttrain_co-rmse:388.12758\ttest_co-rmse:562.73100\n",
      "[128]\ttrain_c-rmse:365.41517\ttest_c-rmse:563.64819\ttrain_co-rmse:365.41517\ttest_co-rmse:563.64819\n"
     ]
    }
   ],
   "source": [
    "# Investigate the effect of cut\n",
    "# make another dataset dropping cut, and train a model\n",
    "dtrain_c = xgb.DMatrix(X_train.drop('cut', axis=1), Y_train, enable_categorical=True)\n",
    "dtest_c = xgb.DMatrix(X_test.drop('cut', axis=1), Y_test, enable_categorical=True)\n",
    "dtrain_co = xgb.DMatrix(Xo_train.drop('cut', axis=1), Yo_train, enable_categorical=True)\n",
    "dtest_co = xgb.DMatrix(Xo_test.drop('cut', axis=1), Yo_test, enable_categorical=True)\n",
    "evals = [(dtrain_c, \"train_c\"), (dtest_c, \"test_c\"), (dtrain_co, \"train_co\"), (dtest_co, \"test_co\")]\n",
    "model_c = xgb.train(\n",
    "   params=params_gpu,\n",
    "   dtrain=dtrain_c,\n",
    "   num_boost_round=n,\n",
    "   evals=evals,\n",
    "   verbose_eval=vb,\n",
    "   early_stopping_rounds=es,\n",
    ")"
   ]
  },
  {
   "cell_type": "code",
   "execution_count": 103,
   "metadata": {},
   "outputs": [],
   "source": [
    "# Without cut, the test-rmse increased from 545.59 to 563.64. This implies ~3% improvement if cut is included. "
   ]
  },
  {
   "cell_type": "markdown",
   "metadata": {},
   "source": [
    "This notebook demonstrates the minimal xgboost workflow, and how to manipulate your data to represent a variable as nominal or ordinal type.\n",
    "\n",
    "Additionally, with the diamond dataset, we tested some hypotheses regarding the 'cut' variable. This demonstrates how you can simply manipulate the setup and pursue more deeper understanding by using xgboost."
   ]
  },
  {
   "cell_type": "markdown",
   "metadata": {},
   "source": []
  }
 ],
 "metadata": {
  "kernelspec": {
   "display_name": "rapids",
   "language": "python",
   "name": "python3"
  },
  "language_info": {
   "codemirror_mode": {
    "name": "ipython",
    "version": 3
   },
   "file_extension": ".py",
   "mimetype": "text/x-python",
   "name": "python",
   "nbconvert_exporter": "python",
   "pygments_lexer": "ipython3",
   "version": "3.12.7"
  }
 },
 "nbformat": 4,
 "nbformat_minor": 4
}
